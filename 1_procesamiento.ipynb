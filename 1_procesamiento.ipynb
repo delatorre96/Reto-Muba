{
  "nbformat": 4,
  "nbformat_minor": 0,
  "metadata": {
    "colab": {
      "provenance": []
    },
    "kernelspec": {
      "name": "python3",
      "display_name": "Python 3"
    },
    "language_info": {
      "name": "python"
    }
  },
  "cells": [
    {
      "cell_type": "code",
      "execution_count": null,
      "metadata": {
        "id": "hvIAc45Z5CTn"
      },
      "outputs": [],
      "source": [
        "#En este cuaderno incluiremos el procesamiento y preparación de los datos"
      ]
    }
  ]
}